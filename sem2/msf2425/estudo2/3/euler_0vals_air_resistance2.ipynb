{
 "cells": [
  {
   "cell_type": "code",
   "execution_count": 92,
   "id": "3c75c0e2-ea64-4d72-bcc1-aae26089c29d",
   "metadata": {},
   "outputs": [],
   "source": [
    "import numpy as np\n",
    "import matplotlib.pyplot as plt\n",
    "import sympy as sy\n",
    "import math\n",
    "g=9.81"
   ]
  },
  {
   "cell_type": "code",
   "execution_count": 93,
   "id": "2dfd67c4-68e9-43bc-9ce5-af0d9110b12a",
   "metadata": {},
   "outputs": [],
   "source": [
    "N=10000\n",
    "tfinal=2\n",
    "xt= np.zeros(N)\n",
    "yt= np.zeros(N)\n",
    "vxt= np.zeros(N)\n",
    "vyt= np.zeros(N)\n",
    "t= np.zeros(N)\n",
    "xt[0]=0\n",
    "yt[0]=3\n",
    "vxt[0]=math.cos(math.radians(10))*(200/3.6)\n",
    "vyt[0]=math.sin(math.radians(10))*(200/3.6)\n",
    "t[0]=0\n",
    "dt=tfinal/N\n",
    "vt=6.8\n",
    "timevel0= 0\n",
    "vel0index= 0\n",
    "timey0= 0\n",
    "y0index= 0"
   ]
  },
  {
   "cell_type": "code",
   "execution_count": 94,
   "id": "d4a62e9a-5947-4dac-b7ea-e657db14151f",
   "metadata": {},
   "outputs": [],
   "source": [
    "def euler():\n",
    "    for i in range(N-1):\n",
    "        vabs =math.sqrt((vxt[i]**2)+(vyt[i]**2))\n",
    "        ax= -(g/(vt**2))*vabs*vxt[i]\n",
    "        ay= -g -(g/(vt**2))*vabs*vyt[i]\n",
    "        \n",
    "        xt[i+1]=xt[i]+vxt[i]*dt\n",
    "        yt[i+1]=yt[i]+vyt[i]*dt\n",
    "        \n",
    "        vxt[i+1]=vxt[i]+ax*dt\n",
    "        vyt[i+1]=vyt[i]+ay*dt\n",
    "        \n",
    "        t[i+1]=t[i]+dt\n",
    "        if(vyt[i+1]*vyt[i]<0): #save when the vertical velocity changes from positive to negative, so we know when velocity 0 was crossed\n",
    "            timevel0 = ((2*i+1)/2)*dt \n",
    "            vel0index= i\n",
    "        if(yt[i+1]*yt[i]<0): #save when the y changes from positive to negative, so we know when y 0 was crossed\n",
    "            timey0 = ((2*i+1)/2)*dt\n",
    "            y0index = i\n",
    "        \n",
    "    return timevel0, vel0index, timey0, y0index\n",
    "timevel0, vel0index, timey0, y0index = euler()"
   ]
  },
  {
   "cell_type": "code",
   "execution_count": 95,
   "id": "a19d3910-0f48-4b95-a5ca-b89d134ecbd5",
   "metadata": {},
   "outputs": [
    {
     "data": {
      "text/plain": [
       "[<matplotlib.lines.Line2D at 0x21de4d66890>]"
      ]
     },
     "execution_count": 95,
     "metadata": {},
     "output_type": "execute_result"
    },
    {
     "data": {
      "image/png": "[encoded data removed]",
      "text/plain": [
       "<Figure size 640x480 with 4 Axes>"
      ]
     },
     "metadata": {},
     "output_type": "display_data"
    }
   ],
   "source": [
    "figure, axis= plt.subplots(2,2)\n",
    "axis[0,0].plot(t,yt, linestyle=\"-\")"
   ]
  },
  {
   "cell_type": "code",
   "execution_count": 96,
   "id": "f80e61dc-5aed-49bc-aef8-24d4523bc95e",
   "metadata": {},
   "outputs": [
    {
     "name": "stdout",
     "output_type": "stream",
     "text": [
      "O volante atinge a sua altura máxima aos 0.33 segundos, atingindo os 3.95 metros.\n",
      "O volante chega ao chão aos 1.46 segundos, atingindo os 13.21 metros.\n"
     ]
    }
   ],
   "source": [
    "print(\"O volante atinge a sua altura máxima aos {:.2f} segundos, atingindo os {:.2f} metros.\".format(timevel0, yt[vel0index]))\n",
    "print(\"O volante chega ao chão aos {:.2f} segundos, atingindo os {:.2f} metros.\".format(timey0, xt[y0index]))"
   ]
  }
 ],
 "metadata": {
  "kernelspec": {
   "display_name": "Python 3 (ipykernel)",
   "language": "python",
   "name": "python3"
  },
  "language_info": {
   "codemirror_mode": {
    "name": "ipython",
    "version": 3
   },
   "file_extension": ".py",
   "mimetype": "text/x-python",
   "name": "python",
   "nbconvert_exporter": "python",
   "pygments_lexer": "ipython3",
   "version": "3.10.0"
  }
 },
 "nbformat": 4,
 "nbformat_minor": 5
}
