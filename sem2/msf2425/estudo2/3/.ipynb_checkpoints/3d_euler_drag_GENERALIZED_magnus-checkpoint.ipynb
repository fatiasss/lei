{
 "cells": [
  {
   "cell_type": "code",
   "execution_count": 212,
   "id": "a9b1df33-cbee-4cb4-977a-8e033e3b87cc",
   "metadata": {},
   "outputs": [],
   "source": [
    "import numpy as np\n",
    "import matplotlib.pyplot as plt\n",
    "import math\n",
    "vmax=100/3.6\n",
    "g=9.81\n",
    "m=57/1000\n",
    "r=(67/1000)/2\n",
    "A= math.pi*r**2\n",
    "p=1.225\n",
    "w= [0, 0, 100]"
   ]
  },
  {
   "cell_type": "code",
   "execution_count": 213,
   "id": "772016d0-db0d-43cb-9a76-d5c1b740672e",
   "metadata": {},
   "outputs": [],
   "source": [
    "N=10000\n",
    "tfinal=4\n",
    "xt= np.empty(N)\n",
    "yt= np.empty(N)\n",
    "zt= np.empty(N)\n",
    "xt[0]=-10\n",
    "yt[0]=1\n",
    "zt[0]=0\n",
    "vxt= np.empty(N)\n",
    "vyt= np.empty(N)\n",
    "vzt= np.empty(N)\n",
    "t= np.zeros(N)\n",
    "vxt[0]=(130/3.6)*math.cos(math.radians(10))\n",
    "vyt[0]=(130/3.6)*math.sin(math.radians(10))\n",
    "vzt[0]=0\n",
    "dt=tfinal/N\n",
    "dragcoef=(g/vmax**2)\n",
    "magcoef= (0.5*A*p*r)/m"
   ]
  },
  {
   "cell_type": "code",
   "execution_count": 214,
   "id": "31b7248a-6003-44b5-8d95-8e965a4388a5",
   "metadata": {},
   "outputs": [
    {
     "ename": "UnboundLocalError",
     "evalue": "local variable 'timey0' referenced before assignment",
     "output_type": "error",
     "traceback": [
      "\u001b[1;31m---------------------------------------------------------------------------\u001b[0m",
      "\u001b[1;31mUnboundLocalError\u001b[0m                         Traceback (most recent call last)",
      "Cell \u001b[1;32mIn[214], line 26\u001b[0m\n\u001b[0;32m     24\u001b[0m             y0index \u001b[38;5;241m=\u001b[39m i\n\u001b[0;32m     25\u001b[0m     \u001b[38;5;28;01mreturn\u001b[39;00m timevel0, vel0index, timey0, y0index\n\u001b[1;32m---> 26\u001b[0m timevel0, vel0index, timey0, y0index \u001b[38;5;241m=\u001b[39m \u001b[43meuler\u001b[49m\u001b[43m(\u001b[49m\u001b[43m)\u001b[49m\n",
      "Cell \u001b[1;32mIn[214], line 25\u001b[0m, in \u001b[0;36meuler\u001b[1;34m()\u001b[0m\n\u001b[0;32m     23\u001b[0m         timey0 \u001b[38;5;241m=\u001b[39m ((\u001b[38;5;241m2\u001b[39m\u001b[38;5;241m*\u001b[39mi\u001b[38;5;241m+\u001b[39m\u001b[38;5;241m1\u001b[39m)\u001b[38;5;241m/\u001b[39m\u001b[38;5;241m2\u001b[39m)\u001b[38;5;241m*\u001b[39mdt\n\u001b[0;32m     24\u001b[0m         y0index \u001b[38;5;241m=\u001b[39m i\n\u001b[1;32m---> 25\u001b[0m \u001b[38;5;28;01mreturn\u001b[39;00m timevel0, vel0index, \u001b[43mtimey0\u001b[49m, y0index\n",
      "\u001b[1;31mUnboundLocalError\u001b[0m: local variable 'timey0' referenced before assignment"
     ]
    }
   ],
   "source": [
    "def euler():\n",
    "    for i in range(N-1):\n",
    "        wvcross = np.cross(w, [vxt[i], vyt[i], vzt[i]]) #crossproduct of w and v\n",
    "        vabs = np.sqrt(vxt[i]**2 + vyt[i]**2 + vzt[i]**2)\n",
    "        \n",
    "        ax=-dragcoef*vabs*vxt[i] + magcoef*wvcross[0]\n",
    "        ay=-g -dragcoef*vabs*vyt[i] + magcoef*wvcross[1]\n",
    "        az=-dragcoef*vabs*vzt[i] + magcoef*wvcross[2]\n",
    "        \n",
    "        xt[i+1]=xt[i]+vxt[i]*dt\n",
    "        yt[i+1]=yt[i]+vyt[i]*dt\n",
    "        zt[i+1]=zt[i]+vzt[i]*dt\n",
    "        \n",
    "        vxt[i+1]=vxt[i]+ax*dt\n",
    "        vyt[i+1]=vyt[i]+ay*dt\n",
    "        vzt[i+1]=vzt[i]+az*dt\n",
    "\n",
    "        t[i+1]=t[i]+ dt\n",
    "        if(vyt[i+1]*vyt[i]<0): #save when the vertical velocity changes from positive to negative, so we know when velocity 0 was crossed\n",
    "            timevel0 = ((2*i+1)/2)*dt \n",
    "            vel0index= i\n",
    "        if(yt[i+1]*yt[i]<0): #save when the y changes from positive to negative, so we know when y 0 was crossed\n",
    "            timey0 = ((2*i+1)/2)*dt\n",
    "            y0index = i\n",
    "    return timevel0, vel0index, timey0, y0index\n",
    "timevel0, vel0index, timey0, y0index = euler()"
   ]
  },
  {
   "cell_type": "code",
   "execution_count": null,
   "id": "c14c0483-ca48-4376-b74b-36fa7b3e99e0",
   "metadata": {},
   "outputs": [],
   "source": [
    "figure, axis = plt.subplots(2, 2)\n",
    "\n",
    "axis[0, 0].plot(t, xt, linestyle=\"-\")\n",
    "axis[0, 1].plot(t, yt, linestyle=\"-\")\n",
    "axis[1, 0].plot(t, zt, linestyle=\"-\")"
   ]
  },
  {
   "cell_type": "code",
   "execution_count": null,
   "id": "2c01e685-f80b-4973-823b-4c056a019122",
   "metadata": {},
   "outputs": [],
   "source": [
    "print(\"A bola atinge a sua altura máxima aos {:.2f} segundos, atingindo os {:.2f} metros.\".format(timevel0, yt[vel0index]))\n",
    "print(\"A bola chega ao chão aos {:.2f} segundos, atingindo os {:.2f} metros.\".format(timey0, xt[y0index]))"
   ]
  }
 ],
 "metadata": {
  "kernelspec": {
   "display_name": "Python 3 (ipykernel)",
   "language": "python",
   "name": "python3"
  },
  "language_info": {
   "codemirror_mode": {
    "name": "ipython",
    "version": 3
   },
   "file_extension": ".py",
   "mimetype": "text/x-python",
   "name": "python",
   "nbconvert_exporter": "python",
   "pygments_lexer": "ipython3",
   "version": "3.10.0"
  }
 },
 "nbformat": 4,
 "nbformat_minor": 5
}
