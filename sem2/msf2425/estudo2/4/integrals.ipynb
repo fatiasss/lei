{
 "cells": [
  {
   "cell_type": "code",
   "execution_count": 29,
   "id": "cd7bc350-6896-411c-a3c7-10107e9ddc0b",
   "metadata": {},
   "outputs": [],
   "source": [
    "import sympy as sy\n",
    "import matplotlib.pyplot as plt\n",
    "import numpy as np\n",
    "import math\n",
    "\n",
    "x,y = sy.symbols(\"x,y\")\n",
    "N = 10000\n",
    "xfinal = 2\n",
    "dx = xfinal/N"
   ]
  },
  {
   "cell_type": "code",
   "execution_count": 30,
   "id": "0fbdff03-1ba0-49b6-a338-4efe9507f8aa",
   "metadata": {},
   "outputs": [],
   "source": [
    "y= (x**3)/4\n",
    "y_lam = sy.lambdify(x, y, \"numpy\")\n",
    "x_vals = np.linspace(0, xfinal, N)\n",
    "f = y_lam(x_vals)"
   ]
  },
  {
   "cell_type": "code",
   "execution_count": 31,
   "id": "b7e5351c-fe80-463a-b4b7-cc7598cc8020",
   "metadata": {},
   "outputs": [],
   "source": [
    "def trap_integral():\n",
    "    return dx * ((f[0]+f[N-1])*0.5+np.sum(f[1:N-1])) #f is the list of N values of the function\n",
    "\n",
    "trap_integral = trap_integral()\n",
    "\n",
    "def rec_integral():\n",
    "    return dx * (np.sum(f[1:N-1])) #f is the list of N values of the function\n",
    "\n",
    "rec_integral = rec_integral()"
   ]
  },
  {
   "cell_type": "code",
   "execution_count": 32,
   "id": "08df01fb-8749-4749-a1ad-28bcc9d87421",
   "metadata": {},
   "outputs": [
    {
     "name": "stdout",
     "output_type": "stream",
     "text": [
      "0.9999000100010003\n",
      "0.9997000100010003\n"
     ]
    }
   ],
   "source": [
    "print(trap_integral)\n",
    "print(rec_integral)"
   ]
  }
 ],
 "metadata": {
  "kernelspec": {
   "display_name": "Python 3 (ipykernel)",
   "language": "python",
   "name": "python3"
  },
  "language_info": {
   "codemirror_mode": {
    "name": "ipython",
    "version": 3
   },
   "file_extension": ".py",
   "mimetype": "text/x-python",
   "name": "python",
   "nbconvert_exporter": "python",
   "pygments_lexer": "ipython3",
   "version": "3.10.0"
  }
 },
 "nbformat": 4,
 "nbformat_minor": 5
}
